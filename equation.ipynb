{
 "cells": [
  {
   "cell_type": "code",
   "execution_count": 1,
   "metadata": {},
   "outputs": [],
   "source": [
    "# import sympy as sp\n",
    "from sympy import*\n",
    "# import plotly as plt\n",
    "# import matplotlib.pyplot as plt\n",
    "x = Symbol('x')\n",
    "eq = sin(x)**2 - cos(x)**2"
   ]
  },
  {
   "cell_type": "code",
   "execution_count": 1,
   "metadata": {},
   "outputs": [
    {
     "ename": "NameError",
     "evalue": "name 'solveset' is not defined",
     "output_type": "error",
     "traceback": [
      "\u001b[1;31m---------------------------------------------------------------------------\u001b[0m",
      "\u001b[1;31mNameError\u001b[0m                                 Traceback (most recent call last)",
      "Cell \u001b[1;32mIn[1], line 1\u001b[0m\n\u001b[1;32m----> 1\u001b[0m dec\u001b[38;5;241m=\u001b[39m\u001b[43msolveset\u001b[49m(eq)\n\u001b[0;32m      2\u001b[0m dec\n",
      "\u001b[1;31mNameError\u001b[0m: name 'solveset' is not defined"
     ]
    }
   ],
   "source": [
    "dec=solveset(eq)\n",
    "dec"
   ]
  },
  {
   "cell_type": "code",
   "execution_count": 2,
   "metadata": {},
   "outputs": [
    {
     "ename": "NameError",
     "evalue": "name 'plot' is not defined",
     "output_type": "error",
     "traceback": [
      "\u001b[1;31m---------------------------------------------------------------------------\u001b[0m",
      "\u001b[1;31mNameError\u001b[0m                                 Traceback (most recent call last)",
      "Cell \u001b[1;32mIn[2], line 2\u001b[0m\n\u001b[0;32m      1\u001b[0m \u001b[38;5;66;03m# график\u001b[39;00m\n\u001b[1;32m----> 2\u001b[0m \u001b[43mplot\u001b[49m(eq)\n",
      "\u001b[1;31mNameError\u001b[0m: name 'plot' is not defined"
     ]
    }
   ],
   "source": [
    "# график\n",
    "plot(eq)"
   ]
  },
  {
   "cell_type": "code",
   "execution_count": 2,
   "metadata": {},
   "outputs": [
    {
     "ename": "NameError",
     "evalue": "name 'diff' is not defined",
     "output_type": "error",
     "traceback": [
      "\u001b[1;31m---------------------------------------------------------------------------\u001b[0m",
      "\u001b[1;31mNameError\u001b[0m                                 Traceback (most recent call last)",
      "Cell \u001b[1;32mIn[2], line 2\u001b[0m\n\u001b[0;32m      1\u001b[0m \u001b[38;5;66;03m# производная\u001b[39;00m\n\u001b[1;32m----> 2\u001b[0m derivative \u001b[38;5;241m=\u001b[39m \u001b[43mdiff\u001b[49m(eq)\n\u001b[0;32m      3\u001b[0m derivative\n",
      "\u001b[1;31mNameError\u001b[0m: name 'diff' is not defined"
     ]
    }
   ],
   "source": [
    "# производная\n",
    "derivative = diff(eq)\n",
    "derivative"
   ]
  },
  {
   "cell_type": "code",
   "execution_count": 60,
   "metadata": {},
   "outputs": [
    {
     "data": {
      "text/latex": [
       "$\\displaystyle 0 < x \\wedge x < \\frac{\\pi}{2}$"
      ],
      "text/plain": [
       "(0 < x) & (x < pi/2)"
      ]
     },
     "execution_count": 60,
     "metadata": {},
     "output_type": "execute_result"
    }
   ],
   "source": [
    "# возрастание\n",
    "increase=solve(derivative>0)\n",
    "increase"
   ]
  },
  {
   "cell_type": "code",
   "execution_count": 3,
   "metadata": {},
   "outputs": [
    {
     "ename": "NameError",
     "evalue": "name 'sp' is not defined",
     "output_type": "error",
     "traceback": [
      "\u001b[1;31m---------------------------------------------------------------------------\u001b[0m",
      "\u001b[1;31mNameError\u001b[0m                                 Traceback (most recent call last)",
      "Cell \u001b[1;32mIn[3], line 2\u001b[0m\n\u001b[0;32m      1\u001b[0m \u001b[38;5;66;03m# убывание\u001b[39;00m\n\u001b[1;32m----> 2\u001b[0m decreases\u001b[38;5;241m=\u001b[39m\u001b[43msp\u001b[49m\u001b[38;5;241m.\u001b[39msolve(derivative\u001b[38;5;241m<\u001b[39m\u001b[38;5;241m0\u001b[39m)\n\u001b[0;32m      3\u001b[0m decreases\n",
      "\u001b[1;31mNameError\u001b[0m: name 'sp' is not defined"
     ]
    }
   ],
   "source": [
    "# убывание\n",
    "decreases=solve(derivative<0)\n",
    "decreases"
   ]
  },
  {
   "cell_type": "code",
   "execution_count": 5,
   "metadata": {},
   "outputs": [
    {
     "ename": "NameError",
     "evalue": "name 'solve' is not defined",
     "output_type": "error",
     "traceback": [
      "\u001b[1;31m---------------------------------------------------------------------------\u001b[0m",
      "\u001b[1;31mNameError\u001b[0m                                 Traceback (most recent call last)",
      "Cell \u001b[1;32mIn[5], line 2\u001b[0m\n\u001b[0;32m      1\u001b[0m \u001b[38;5;66;03m# функция больше нуля\u001b[39;00m\n\u001b[1;32m----> 2\u001b[0m up_eq\u001b[38;5;241m=\u001b[39m\u001b[43msolve\u001b[49m(eq\u001b[38;5;241m>\u001b[39m\u001b[38;5;241m0\u001b[39m)\n\u001b[0;32m      3\u001b[0m up_eq\n",
      "\u001b[1;31mNameError\u001b[0m: name 'solve' is not defined"
     ]
    }
   ],
   "source": [
    "# функция больше нуля\n",
    "up_eq=solve(eq>0)\n",
    "up_eq"
   ]
  },
  {
   "cell_type": "code",
   "execution_count": 4,
   "metadata": {},
   "outputs": [
    {
     "ename": "NameError",
     "evalue": "name 'solve' is not defined",
     "output_type": "error",
     "traceback": [
      "\u001b[1;31m---------------------------------------------------------------------------\u001b[0m",
      "\u001b[1;31mNameError\u001b[0m                                 Traceback (most recent call last)",
      "Cell \u001b[1;32mIn[4], line 2\u001b[0m\n\u001b[0;32m      1\u001b[0m \u001b[38;5;66;03m# функция меньше нуля\u001b[39;00m\n\u001b[1;32m----> 2\u001b[0m down_eq\u001b[38;5;241m=\u001b[39m\u001b[43msolve\u001b[49m(eq\u001b[38;5;241m<\u001b[39m\u001b[38;5;241m0\u001b[39m)\n\u001b[0;32m      3\u001b[0m down_eq\n",
      "\u001b[1;31mNameError\u001b[0m: name 'solve' is not defined"
     ]
    }
   ],
   "source": [
    "# функция меньше нуля\n",
    "down_eq=solve(eq<0)\n",
    "down_eq"
   ]
  },
  {
   "cell_type": "code",
   "execution_count": 4,
   "metadata": {},
   "outputs": [
    {
     "ename": "NameError",
     "evalue": "name 'solve' is not defined",
     "output_type": "error",
     "traceback": [
      "\u001b[1;31m---------------------------------------------------------------------------\u001b[0m",
      "\u001b[1;31mNameError\u001b[0m                                 Traceback (most recent call last)",
      "Cell \u001b[1;32mIn[4], line 1\u001b[0m\n\u001b[1;32m----> 1\u001b[0m roots\u001b[38;5;241m=\u001b[39m\u001b[43msolve\u001b[49m(derivative(eq))\n\u001b[0;32m      2\u001b[0m roots\n",
      "\u001b[1;31mNameError\u001b[0m: name 'solve' is not defined"
     ]
    }
   ],
   "source": [
    "roots=solve(derivative(eq))\n",
    "roots"
   ]
  }
 ],
 "metadata": {
  "kernelspec": {
   "display_name": "Python 3.8.0 64-bit",
   "language": "python",
   "name": "python3"
  },
  "language_info": {
   "codemirror_mode": {
    "name": "ipython",
    "version": 3
   },
   "file_extension": ".py",
   "mimetype": "text/x-python",
   "name": "python",
   "nbconvert_exporter": "python",
   "pygments_lexer": "ipython3",
   "version": "3.8.0"
  },
  "orig_nbformat": 4,
  "vscode": {
   "interpreter": {
    "hash": "ef9b49dc2fb0bd31616940f3ff57db7cdf010cf309e9c3b1c5c6451f2d472f61"
   }
  }
 },
 "nbformat": 4,
 "nbformat_minor": 2
}
